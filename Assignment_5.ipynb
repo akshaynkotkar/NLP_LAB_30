{
 "cells": [
  {
   "cell_type": "code",
   "execution_count": 1,
   "metadata": {},
   "outputs": [
    {
     "name": "stdout",
     "output_type": "stream",
     "text": [
      "Match 1 was found at 4-14: 21/10/2024\n",
      "Group 1 found at -1--1: None\n",
      "Group 2 found at -1--1: None\n",
      "Group 3 found at -1--1: None\n",
      "Group 4 found at -1--1: None\n",
      "Group 5 found at -1--1: None\n",
      "Group 6 found at -1--1: None\n",
      "Group 7 found at -1--1: None\n",
      "Group 8 found at -1--1: None\n",
      "Group 9 found at 4-6: 21\n",
      "Group 10 found at 7-9: 10\n",
      "Group 11 found at 10-14: 2024\n",
      "Match 2 was found at 44-67: https://www.example.com\n",
      "Group 1 found at 44-67: https://www.example.com\n",
      "Group 2 found at 44-52: https://\n",
      "Group 3 found at 52-56: www.\n",
      "Group 4 found at 63-67: .com\n",
      "Group 5 found at 67-67: \n",
      "Group 6 found at -1--1: None\n",
      "Group 7 found at -1--1: None\n",
      "Group 8 found at -1--1: None\n",
      "Group 9 found at -1--1: None\n",
      "Group 10 found at -1--1: None\n",
      "Group 11 found at -1--1: None\n",
      "Match 3 was found at 180-193: 192.168.1.101\n",
      "Group 1 found at 180-193: 192.168.1.101\n",
      "Group 2 found at -1--1: None\n",
      "Group 3 found at -1--1: None\n",
      "Group 4 found at 189-193: .101\n",
      "Group 5 found at 193-193: \n",
      "Group 6 found at -1--1: None\n",
      "Group 7 found at -1--1: None\n",
      "Group 8 found at -1--1: None\n",
      "Group 9 found at -1--1: None\n",
      "Group 10 found at -1--1: None\n",
      "Group 11 found at -1--1: None\n",
      "Match 4 was found at 280-290: ABCDE1234F\n",
      "Group 1 found at -1--1: None\n",
      "Group 2 found at -1--1: None\n",
      "Group 3 found at -1--1: None\n",
      "Group 4 found at -1--1: None\n",
      "Group 5 found at -1--1: None\n",
      "Group 6 found at -1--1: None\n",
      "Group 7 found at -1--1: None\n",
      "Group 8 found at -1--1: None\n",
      "Group 9 found at -1--1: None\n",
      "Group 10 found at -1--1: None\n",
      "Group 11 found at -1--1: None\n"
     ]
    }
   ],
   "source": [
    "\n",
    "import re\n",
    "\n",
    "regex = r\"\\b((https?:\\/\\/)?(www\\.)?[\\w\\-]+(\\.[\\w\\-]+)+([\\/\\w\\-\\.\\?&=]*)?)\\b|(\\b(25[0-5]|2[0-4][0-9]|[01]?[0-9][0-9]?)\\.){3}(25[0-5]|2[0-4][0-9]|[01]?[0-9][0-9]?)\\b|\\b(0?[1-9]|[12][0-9]|3[01])[\\/\\-\\.](0?[1-9]|1[012])[\\/\\-\\.](\\d{4})\\b|\\b[A-Z]{5}[0-9]{4}[A-Z]\\b\"\n",
    "\n",
    "test_str = (\"\\n\"\n",
    "\t\"On 21/10/2024, John visited the website at https://www.example.com to check the details of his financial transactions. His computer connected to the internet using the IP address 192.168.1.101. During the process, he was asked to verify his identity by providing his PAN number: ABCDE1234F, which is a standard requirement for tax filings in India.\")\n",
    "\n",
    "matches = re.finditer(regex, test_str, re.MULTILINE)\n",
    "\n",
    "for matchNum, match in enumerate(matches, start=1):\n",
    "    \n",
    "    print (\"Match {matchNum} was found at {start}-{end}: {match}\".format(matchNum = matchNum, start = match.start(), end = match.end(), match = match.group()))\n",
    "    \n",
    "    for groupNum in range(0, len(match.groups())):\n",
    "        groupNum = groupNum + 1\n",
    "        \n",
    "        print (\"Group {groupNum} found at {start}-{end}: {group}\".format(groupNum = groupNum, start = match.start(groupNum), end = match.end(groupNum), group = match.group(groupNum)))\n"
   ]
  },
  {
   "cell_type": "code",
   "execution_count": null,
   "metadata": {},
   "outputs": [],
   "source": []
  }
 ],
 "metadata": {
  "kernelspec": {
   "display_name": "Python 3",
   "language": "python",
   "name": "python3"
  },
  "language_info": {
   "codemirror_mode": {
    "name": "ipython",
    "version": 3
   },
   "file_extension": ".py",
   "mimetype": "text/x-python",
   "name": "python",
   "nbconvert_exporter": "python",
   "pygments_lexer": "ipython3",
   "version": "3.12.1"
  }
 },
 "nbformat": 4,
 "nbformat_minor": 2
}
